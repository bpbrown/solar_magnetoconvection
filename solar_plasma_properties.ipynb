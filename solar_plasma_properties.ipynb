{
 "cells": [
  {
   "cell_type": "code",
   "execution_count": null,
   "id": "b53c2695",
   "metadata": {},
   "outputs": [],
   "source": [
    "import numpy as np\n",
    "import pandas as pd\n",
    "import matplotlib.pyplot as plt\n",
    "%config InlineBackend.figure_format = 'retina'"
   ]
  },
  {
   "cell_type": "markdown",
   "id": "6a72682a",
   "metadata": {},
   "source": [
    "Solar interior\n",
    "==========\n",
    "\n",
    "We start by considering properties of the solar interior, based on Model S.  We clip the solar interior at $r/R_\\odot = 0.99$, to avoid possible boundary layer issues."
   ]
  },
  {
   "cell_type": "code",
   "execution_count": null,
   "id": "5ffb3ab0",
   "metadata": {},
   "outputs": [],
   "source": [
    "col_names = ['r', 'c', 'rho', 'p', 'Gamma_1', 'T']\n",
    "data = pd.read_csv('model_S.txt', delim_whitespace=True, \n",
    "                   comment='#', names=col_names)\n",
    "mask = (data['r']<=0.99)\n",
    "data = data[mask]"
   ]
  },
  {
   "cell_type": "code",
   "execution_count": null,
   "id": "fc0aa942",
   "metadata": {},
   "outputs": [],
   "source": [
    "fig, ax = plt.subplots()\n",
    "ax.plot(data['r'], np.log(data['rho']))\n",
    "ax.set_ylabel(r'$\\ln \\rho$')\n",
    "ax.set_xlabel(r'$r/R_\\odot$')\n",
    "ax2 = ax.twinx()\n",
    "γ = data['Gamma_1']\n",
    "s = 1/γ*np.log(data['T'])-(γ-1)/γ*np.log(data['rho'])\n",
    "ax2.plot(data['r'], s, color='tab:orange')\n",
    "ax2.set_ylabel(r'$s/c_P$')\n",
    "ax2.yaxis.label.set_color('tab:orange')\n",
    "ax2.tick_params(axis='y', colors='tab:orange')"
   ]
  },
  {
   "cell_type": "code",
   "execution_count": null,
   "id": "66bb8d79",
   "metadata": {},
   "outputs": [],
   "source": [
    "k_B = 1.3e-16 # ergs/K\n",
    "q_e = 4.8e-10 # statcoul or esu\n",
    "N_A = 6.0221e23 # Avagadro's number\n",
    "m_H = 1/(N_A) # 1g/mol -> mass per atom via N_A\n",
    "n = data['rho']/m_H # approximation to 100% Hydrogen\n",
    "T = data['T']\n",
    "λ_D = np.sqrt(k_B*T/(8*np.pi*n*q_e**2))\n",
    "fig, ax = plt.subplots()\n",
    "ax.plot(data['r'], λ_D)\n",
    "ax.set_yscale('log')\n",
    "ax.set_ylabel(r'$\\lambda_D$ [cm]')\n",
    "ax.set_xlabel(r'$r/R_\\odot$')"
   ]
  },
  {
   "cell_type": "markdown",
   "id": "cb01b02a",
   "metadata": {},
   "source": [
    "Next we compute Braginskii plasma diffusivities, following the NRL plasma formulary.  We use $\\eta^i_0$ as the proxy for unmagentized plasmas, following the $P_{jk} = -\\eta_0 W_{jk}$ notation, where \\begin{equation}\n",
    "W = \\nabla u + (\\nabla u)^T - 2/3 \\mathrm{Tr}(\\nabla\\cdot u)\n",
    "\\end{equation}\n",
    "which \n",
    "\\begin{equation}\n",
    "    \\eta^i_0 = 0.96 n k T \\tau_i\n",
    "\\end{equation}\n",
    "with\n",
    "\\begin{equation}\n",
    "    \\tau_i = \\frac{3\\sqrt{m_i} (k T)^{3/2}}{4 \\sqrt{\\pi} n \\lambda e^4}\n",
    "\\end{equation}\n",
    "and where $\\lambda$ here is the coulomb logarithm, where typically $\\lambda \\approx 10-20$.\n",
    "\n",
    "The units on $\\eta_0$ are in $g/cm/s$, so $\\eta_0 = \\mu$ and $\\nu = \\eta_0/\\rho$.  This aligns with the NRL expression of the momentum equation (pg 36)."
   ]
  },
  {
   "cell_type": "code",
   "execution_count": null,
   "id": "25734e6b",
   "metadata": {},
   "outputs": [],
   "source": [
    "λ = 10\n",
    "τ_i = (3*np.sqrt(m_H)*(k_B*T)**(3/2))/(4*np.sqrt(np.pi)*n*λ*q_e**4)\n",
    "η_0 = 0.96*n*k_B*T*τ_i\n",
    "ν = η_0/data['rho']"
   ]
  },
  {
   "cell_type": "code",
   "execution_count": null,
   "id": "5e46b1b0",
   "metadata": {},
   "outputs": [],
   "source": [
    "fig, ax = plt.subplots()\n",
    "ax.plot(data['r'], ν)\n",
    "ax.set_yscale('log')\n",
    "ax.set_ylabel(r'$\\nu$ [cm$^2$/s]')\n",
    "ax.set_xlabel(r'$r/R_\\odot$')"
   ]
  },
  {
   "cell_type": "markdown",
   "id": "f8d8bcf7",
   "metadata": {},
   "source": [
    "The magnetic diffusion coefficient (also confusingly $\\eta$) is given by:\n",
    "\\begin{equation}\n",
    "    \\eta = \\frac{c^2}{4 \\pi \\sigma} ~\\mathrm{cm}^2\\:\\mathrm{s}^{-1}\n",
    "\\end{equation}\n",
    "with\n",
    "\\begin{equation}\n",
    "  \\sigma \\approx \\sigma_\\parallel = 1.96 \\sigma_\\perp \n",
    "  = 1.96 \\frac{Z n_i e^2 \\tau_e}{m_e}~\\mathrm{s}^{-1}\n",
    "\\end{equation}\n",
    "and\n",
    "\\begin{equation}\n",
    "  \\eta = \\frac{c^2}{4 \\pi} \\frac{m_e}{1.96 Z n_i e^2 \\tau_e}~\\mathrm{cm}^2\\:\\mathrm{s}^{-1}.\n",
    "\\end{equation}"
   ]
  },
  {
   "cell_type": "code",
   "execution_count": null,
   "id": "6a46108e",
   "metadata": {},
   "outputs": [],
   "source": [
    "c = 3e10\n",
    "m_e = 9.11e-28\n",
    "τ_e = (3*np.sqrt(m_e)*(k_B*T)**(3/2))/(4*np.sqrt(np.pi)*n*λ*q_e**4)\n",
    "\n",
    "η = c**2/(4*np.pi)*m_e/(1.96*n*q_e**2*τ_e)\n",
    "fig, ax = plt.subplots()\n",
    "ax.plot(data['r'], ν/η)\n",
    "ax.set_yscale('log')\n",
    "ax.set_ylabel(r'$\\mathrm{Pm}=\\nu/\\eta$')\n",
    "ax.set_xlabel(r'$r/R_\\odot$')"
   ]
  },
  {
   "cell_type": "markdown",
   "id": "659d30bf",
   "metadata": {},
   "source": [
    "Solar atmosphere\n",
    "==============\n",
    "We next consider properties of the solar atmosphere, based on the VAL atmosphere model.  Here, we narrowly consider the lower atmosphere, and in particular the region up to about 3000km (3Mm)."
   ]
  },
  {
   "cell_type": "code",
   "execution_count": null,
   "id": "fc9f7198",
   "metadata": {},
   "outputs": [],
   "source": [
    "col_names =['cell', 'z','column_density',  'T', 'V' , 'p_g', 'p_tot','n_H','n_HI','n_e']\n",
    "data = pd.read_csv('solar_atm.txt', delim_whitespace=True, \n",
    "                   comment='#', names=col_names)\n",
    "mask = (data['z']<3000)\n",
    "data = data[mask]\n",
    "\n",
    "n = data['n_H']+data['n_HI']\n",
    "ρ = m_H*n"
   ]
  },
  {
   "cell_type": "code",
   "execution_count": null,
   "id": "8321cdd6",
   "metadata": {},
   "outputs": [],
   "source": [
    "fig, ax = plt.subplots()\n",
    "ax.plot(data['z'], np.log(ρ))\n",
    "ax.set_ylabel(r'$\\ln \\rho$')\n",
    "ax.set_xlabel(r'$z$ [km]')\n",
    "ax2 = ax.twinx()\n",
    "γ = 5/3\n",
    "s = 1/γ*np.log(data['T'])-(γ-1)/γ*np.log(ρ)\n",
    "ax2.plot(data['z'], s, color='tab:orange')\n",
    "ax2.set_ylabel(r'$s/c_P$')\n",
    "ax2.yaxis.label.set_color('tab:orange')\n",
    "ax2.tick_params(axis='y', colors='tab:orange')"
   ]
  },
  {
   "cell_type": "code",
   "execution_count": null,
   "id": "dc4805ba",
   "metadata": {},
   "outputs": [],
   "source": [
    "T = data['T']\n",
    "n_e = data['n_e']\n",
    "λ_D = np.sqrt(k_B*T/(8*np.pi*n*q_e**2))\n",
    "λ_D_e = np.sqrt(k_B*T/(8*np.pi*n_e*q_e**2))\n",
    "fig, ax = plt.subplots()\n",
    "ax.plot(data['z'], λ_D, label=r'$\\lambda_{D}$')\n",
    "ax.plot(data['z'], λ_D_e, label=r'$\\lambda_{D,e}$')\n",
    "ax.set_yscale('log')\n",
    "ax.set_ylabel(r'$\\lambda_D$ [cm]')\n",
    "ax.set_xlabel(r'$z$ [km]')\n",
    "ax.legend()"
   ]
  },
  {
   "cell_type": "code",
   "execution_count": null,
   "id": "4f956f5e",
   "metadata": {},
   "outputs": [],
   "source": [
    "λ = 10\n",
    "τ_i = (3*np.sqrt(m_H)*(k_B*T)**(3/2))/(4*np.sqrt(np.pi)*n*λ*q_e**4)\n",
    "η_0 = 0.96*n*k_B*T*τ_i\n",
    "ν = η_0/ρ\n",
    "\n",
    "fig, ax = plt.subplots()\n",
    "ax.plot(data['z'], ν)\n",
    "ax.set_yscale('log')\n",
    "ax.set_ylabel(r'$\\nu$ [cm$^2$/s]')\n",
    "ax.set_xlabel(r'$z$ [km]')"
   ]
  },
  {
   "cell_type": "code",
   "execution_count": null,
   "id": "8ca1a55f",
   "metadata": {},
   "outputs": [],
   "source": [
    "c = 3e10\n",
    "m_e = 9.11e-28\n",
    "τ_e = (3*np.sqrt(m_e)*(k_B*T)**(3/2))/(4*np.sqrt(np.pi)*n_e*λ*q_e**4)\n",
    "\n",
    "η = c**2/(4*np.pi)*m_e/(1.96*n*q_e**2*τ_e)\n",
    "fig, ax = plt.subplots()\n",
    "ax.plot(data['z'], ν/η)\n",
    "ax.set_yscale('log')\n",
    "ax.set_ylabel(r'$\\mathrm{Pm}=\\nu/\\eta$')\n",
    "ax.set_xlabel(r'$z$ [km]')"
   ]
  }
 ],
 "metadata": {
  "kernelspec": {
   "display_name": "Python 3 (ipykernel)",
   "language": "python",
   "name": "python3"
  },
  "language_info": {
   "codemirror_mode": {
    "name": "ipython",
    "version": 3
   },
   "file_extension": ".py",
   "mimetype": "text/x-python",
   "name": "python",
   "nbconvert_exporter": "python",
   "pygments_lexer": "ipython3",
   "version": "3.8.10"
  }
 },
 "nbformat": 4,
 "nbformat_minor": 5
}
