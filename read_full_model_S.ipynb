{
 "cells": [
  {
   "cell_type": "code",
   "execution_count": null,
   "id": "9013df19",
   "metadata": {},
   "outputs": [],
   "source": [
    "import numpy as np\n",
    "import read_solar_structure"
   ]
  },
  {
   "cell_type": "code",
   "execution_count": null,
   "id": "8606b4fd",
   "metadata": {},
   "outputs": [],
   "source": [
    "structure = read_solar_structure.read_model_S_GONG_format()\n",
    "data = structure['data']\n",
    "global_parameters = structure['global']"
   ]
  },
  {
   "cell_type": "code",
   "execution_count": null,
   "id": "d7c724bf",
   "metadata": {},
   "outputs": [],
   "source": [
    "global_parameters"
   ]
  },
  {
   "cell_type": "code",
   "execution_count": null,
   "id": "27752e74",
   "metadata": {
    "scrolled": true
   },
   "outputs": [],
   "source": [
    "data"
   ]
  },
  {
   "cell_type": "code",
   "execution_count": null,
   "id": "3df1053e",
   "metadata": {},
   "outputs": [],
   "source": [
    "R_sun = global_parameters['R'].values[0]"
   ]
  },
  {
   "cell_type": "code",
   "execution_count": null,
   "id": "de3ebfcd",
   "metadata": {},
   "outputs": [],
   "source": [
    "import matplotlib.pyplot as plt\n",
    "fig, ax = plt.subplots()\n",
    "ax.plot(data['r']/R_sun, np.log(data['ρ']))\n",
    "ax.set_ylabel(r'$\\ln \\rho$')\n",
    "ax.set_xlabel(r'$r/R_\\odot$')\n",
    "ax2 = ax.twinx()\n",
    "ax2.plot(data['r']/R_sun, np.log(data['κ']), color='tab:red')\n",
    "ax2.set_yscale('log')\n",
    "ax2.set_ylabel(r'$\\kappa$ (opacity)')"
   ]
  }
 ],
 "metadata": {
  "kernelspec": {
   "display_name": "Python 3 (ipykernel)",
   "language": "python",
   "name": "python3"
  },
  "language_info": {
   "codemirror_mode": {
    "name": "ipython",
    "version": 3
   },
   "file_extension": ".py",
   "mimetype": "text/x-python",
   "name": "python",
   "nbconvert_exporter": "python",
   "pygments_lexer": "ipython3",
   "version": "3.8.10"
  }
 },
 "nbformat": 4,
 "nbformat_minor": 5
}
