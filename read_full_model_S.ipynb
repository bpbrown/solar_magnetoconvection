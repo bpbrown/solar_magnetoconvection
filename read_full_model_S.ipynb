{
 "cells": [
  {
   "cell_type": "code",
   "execution_count": null,
   "id": "fb751d56",
   "metadata": {},
   "outputs": [],
   "source": [
    "import numpy as np\n",
    "import pandas as pd"
   ]
  },
  {
   "cell_type": "code",
   "execution_count": null,
   "id": "b536e5c3",
   "metadata": {},
   "outputs": [],
   "source": [
    "model_S = 'fgong.l5bi.d.15c'\n",
    "f = open(model_S, 'r')\n",
    "for i, line in enumerate(f):\n",
    "    if i==4: # header line that contains: nn, iconst, ivar, ivers\n",
    "        nn, iconst, ivar, ivers = list(map(int,line.split()))\n",
    "print('header info: {:d}, {:d}, {:d}, {:d}'.format(nn, iconst, ivar, ivers))\n",
    "\n",
    "# read in global model parameters\n",
    "global_parameters = pd.read_fwf(model_S, skiprows=4, nrows=3, widths=[16 for i in range(5)])\n",
    "# reshape and label; 15 variables are used\n",
    "col_names = ['M', 'R', 'L', 'Z', 'X0',\n",
    "             'α', 'φ', 'ξ', 'β', 'λ',\n",
    "             'd2lnP/dlnR2_c', 'd2lnρ/dlnR2_c', 'age', '14', '15']\n",
    "\n",
    "global_parameters = pd.DataFrame(global_parameters.values.reshape(1,iconst), columns=col_names)\n",
    "# read in stellar structure model\n",
    "data = pd.read_fwf(model_S, skiprows=7, widths=[16 for i in range(5)])\n",
    "# reshape and label; only the first 25 variables from the documentation are used \n",
    "col_names = ['r', 'ln q', 'T', 'p', 'ρ', \n",
    "             'X', 'L', 'κ', 'ε', 'Γ1', \n",
    "             'grad_ad', 'δ', 'c_P', 'μ_e_inv', 'entropy', \n",
    "             'rx', 'Z', 'R-r', 'ε_g', 'L_g', \n",
    "             'X3He', 'X12C', 'X13C', 'X14N', 'X16O']\n",
    "data = pd.DataFrame(data.values.reshape(len(data)//5, ivar), columns=col_names)\n",
    "structure= {'global':global_parameters, 'data':data}"
   ]
  },
  {
   "cell_type": "code",
   "execution_count": null,
   "id": "c89ec966",
   "metadata": {},
   "outputs": [],
   "source": [
    "global_parameters"
   ]
  },
  {
   "cell_type": "code",
   "execution_count": null,
   "id": "0fb5a306",
   "metadata": {
    "scrolled": true
   },
   "outputs": [],
   "source": [
    "data"
   ]
  },
  {
   "cell_type": "code",
   "execution_count": null,
   "id": "eae6e665",
   "metadata": {},
   "outputs": [],
   "source": [
    "R_sun = global_parameters['R'].values[0]"
   ]
  },
  {
   "cell_type": "code",
   "execution_count": null,
   "id": "0878dcc5",
   "metadata": {},
   "outputs": [],
   "source": [
    "import matplotlib.pyplot as plt\n",
    "fig, ax = plt.subplots()\n",
    "ax.plot(data['r']/R_sun, np.log(data['ρ']))\n",
    "ax.set_ylabel(r'$\\ln \\rho$')\n",
    "ax.set_xlabel(r'$r/R_\\odot$')\n",
    "ax2 = ax.twinx()\n",
    "ax2.plot(data['r']/R_sun, np.log(data['κ']), color='tab:red')\n",
    "ax2.set_yscale('log')\n",
    "ax2.set_ylabel(r'$\\kappa$ (opacity)')"
   ]
  },
  {
   "cell_type": "code",
   "execution_count": null,
   "id": "fb888b7f",
   "metadata": {},
   "outputs": [],
   "source": []
  }
 ],
 "metadata": {
  "kernelspec": {
   "display_name": "Python 3 (ipykernel)",
   "language": "python",
   "name": "python3"
  },
  "language_info": {
   "codemirror_mode": {
    "name": "ipython",
    "version": 3
   },
   "file_extension": ".py",
   "mimetype": "text/x-python",
   "name": "python",
   "nbconvert_exporter": "python",
   "pygments_lexer": "ipython3",
   "version": "3.8.10"
  }
 },
 "nbformat": 4,
 "nbformat_minor": 5
}
