{
 "cells": [
  {
   "cell_type": "code",
   "execution_count": 1,
   "id": "d9b9e144",
   "metadata": {},
   "outputs": [],
   "source": [
    "import numpy as np\n",
    "import read_solar_structure"
   ]
  },
  {
   "cell_type": "code",
   "execution_count": 2,
   "id": "5a006514",
   "metadata": {},
   "outputs": [
    {
     "name": "stdout",
     "output_type": "stream",
     "text": [
      "header info: 2482, 15, 25, 210\n"
     ]
    },
    {
     "ename": "NameError",
     "evalue": "name 'model_S' is not defined",
     "output_type": "error",
     "traceback": [
      "\u001b[0;31m---------------------------------------------------------------------------\u001b[0m",
      "\u001b[0;31mNameError\u001b[0m                                 Traceback (most recent call last)",
      "\u001b[0;32m/var/folders/4m/n1hj1dnd4x96kfh1g6n0xcn00000gn/T/ipykernel_45469/449745356.py\u001b[0m in \u001b[0;36m<module>\u001b[0;34m\u001b[0m\n\u001b[0;32m----> 1\u001b[0;31m \u001b[0mstructure\u001b[0m \u001b[0;34m=\u001b[0m \u001b[0mread_solar_structure\u001b[0m\u001b[0;34m.\u001b[0m\u001b[0mread_model_S_GONG_format\u001b[0m\u001b[0;34m(\u001b[0m\u001b[0;34m)\u001b[0m\u001b[0;34m\u001b[0m\u001b[0;34m\u001b[0m\u001b[0m\n\u001b[0m\u001b[1;32m      2\u001b[0m \u001b[0mdata\u001b[0m \u001b[0;34m=\u001b[0m \u001b[0mstructure\u001b[0m\u001b[0;34m[\u001b[0m\u001b[0;34m'data'\u001b[0m\u001b[0;34m]\u001b[0m\u001b[0;34m\u001b[0m\u001b[0;34m\u001b[0m\u001b[0m\n\u001b[1;32m      3\u001b[0m \u001b[0mglobal_parameters\u001b[0m \u001b[0;34m=\u001b[0m \u001b[0mstructure\u001b[0m\u001b[0;34m[\u001b[0m\u001b[0;34m'global'\u001b[0m\u001b[0;34m]\u001b[0m\u001b[0;34m\u001b[0m\u001b[0;34m\u001b[0m\u001b[0m\n",
      "\u001b[0;32m~/code/dedalus-project/solar_magnetoconvection/read_solar_structure.py\u001b[0m in \u001b[0;36mread_model_S_GONG_format\u001b[0;34m(file)\u001b[0m\n\u001b[1;32m     40\u001b[0m \u001b[0;34m\u001b[0m\u001b[0m\n\u001b[1;32m     41\u001b[0m     \u001b[0;31m# read in global model parameters\u001b[0m\u001b[0;34m\u001b[0m\u001b[0;34m\u001b[0m\u001b[0;34m\u001b[0m\u001b[0m\n\u001b[0;32m---> 42\u001b[0;31m     \u001b[0mglobal_parameters\u001b[0m \u001b[0;34m=\u001b[0m \u001b[0mpd\u001b[0m\u001b[0;34m.\u001b[0m\u001b[0mread_fwf\u001b[0m\u001b[0;34m(\u001b[0m\u001b[0mmodel_S\u001b[0m\u001b[0;34m,\u001b[0m \u001b[0mskiprows\u001b[0m\u001b[0;34m=\u001b[0m\u001b[0;36m4\u001b[0m\u001b[0;34m,\u001b[0m \u001b[0mnrows\u001b[0m\u001b[0;34m=\u001b[0m\u001b[0;36m3\u001b[0m\u001b[0;34m,\u001b[0m \u001b[0mwidths\u001b[0m\u001b[0;34m=\u001b[0m\u001b[0;34m[\u001b[0m\u001b[0;36m16\u001b[0m \u001b[0;32mfor\u001b[0m \u001b[0mi\u001b[0m \u001b[0;32min\u001b[0m \u001b[0mrange\u001b[0m\u001b[0;34m(\u001b[0m\u001b[0;36m5\u001b[0m\u001b[0;34m)\u001b[0m\u001b[0;34m]\u001b[0m\u001b[0;34m)\u001b[0m\u001b[0;34m\u001b[0m\u001b[0;34m\u001b[0m\u001b[0m\n\u001b[0m\u001b[1;32m     43\u001b[0m     \u001b[0;31m# reshape and label; 15 variables are used\u001b[0m\u001b[0;34m\u001b[0m\u001b[0;34m\u001b[0m\u001b[0;34m\u001b[0m\u001b[0m\n\u001b[1;32m     44\u001b[0m     col_names = ['M', 'R', 'L', 'Z', 'X0',\n",
      "\u001b[0;31mNameError\u001b[0m: name 'model_S' is not defined"
     ]
    }
   ],
   "source": [
    "structure = read_solar_structure.read_model_S_GONG_format()\n",
    "data = structure['data']\n",
    "global_parameters = structure['global']"
   ]
  },
  {
   "cell_type": "code",
   "execution_count": null,
   "id": "bf8ede4e",
   "metadata": {},
   "outputs": [],
   "source": [
    "global_parameters"
   ]
  },
  {
   "cell_type": "code",
   "execution_count": null,
   "id": "4b5f42d8",
   "metadata": {
    "scrolled": true
   },
   "outputs": [],
   "source": [
    "data"
   ]
  },
  {
   "cell_type": "code",
   "execution_count": null,
   "id": "8724a32c",
   "metadata": {},
   "outputs": [],
   "source": [
    "R_sun = global_parameters['R'].values[0]"
   ]
  },
  {
   "cell_type": "code",
   "execution_count": null,
   "id": "02e58816",
   "metadata": {},
   "outputs": [],
   "source": [
    "import matplotlib.pyplot as plt\n",
    "fig, ax = plt.subplots()\n",
    "ax.plot(data['r']/R_sun, np.log(data['ρ']))\n",
    "ax.set_ylabel(r'$\\ln \\rho$')\n",
    "ax.set_xlabel(r'$r/R_\\odot$')\n",
    "ax2 = ax.twinx()\n",
    "ax2.plot(data['r']/R_sun, np.log(data['κ']), color='tab:red')\n",
    "ax2.set_yscale('log')\n",
    "ax2.set_ylabel(r'$\\kappa$ (opacity)')"
   ]
  },
  {
   "cell_type": "code",
   "execution_count": null,
   "id": "20e68d5f",
   "metadata": {},
   "outputs": [],
   "source": []
  }
 ],
 "metadata": {
  "kernelspec": {
   "display_name": "Python 3 (ipykernel)",
   "language": "python",
   "name": "python3"
  },
  "language_info": {
   "codemirror_mode": {
    "name": "ipython",
    "version": 3
   },
   "file_extension": ".py",
   "mimetype": "text/x-python",
   "name": "python",
   "nbconvert_exporter": "python",
   "pygments_lexer": "ipython3",
   "version": "3.8.10"
  }
 },
 "nbformat": 4,
 "nbformat_minor": 5
}
